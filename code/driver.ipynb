{
 "cells": [
  {
   "cell_type": "code",
   "execution_count": 2,
   "source": [
    "from selenium import webdriver\n",
    "\n",
    "from selenium.webdriver.support.ui import WebDriverWait\n",
    "from selenium.webdriver.support import expected_conditions as EC\n",
    "from selenium.webdriver.common.keys import Keys\n",
    "from selenium.webdriver.common.by import By\n",
    "import time"
   ],
   "outputs": [],
   "metadata": {}
  },
  {
   "cell_type": "code",
   "execution_count": 3,
   "source": [
    "driver = webdriver.Chrome('/usr/local/bin/chromedriver')\n",
    "driver.get(\"https://web.whatsapp.com/\")\n",
    "wait = WebDriverWait(driver , 600)"
   ],
   "outputs": [],
   "metadata": {}
  },
  {
   "cell_type": "code",
   "execution_count": 4,
   "source": [
    "receiver = 'Yashraj'\n",
    "msg = \"assignment\"\n",
    "\n",
    "contactNames = driver.find_elements_by_class_name(\"_3q9s6\")\n",
    "for contactName in contactNames:\n",
    "    if contactName.text == receiver:\n",
    "        contactName.click()\n",
    "        break\n",
    "msgBox = driver.find_element_by_class_name(\"p3_M1\")"
   ],
   "outputs": [],
   "metadata": {}
  },
  {
   "cell_type": "code",
   "execution_count": null,
   "source": [
    "textedContacts = driver.find_elements_by_class_name(\"_3m_Xw\")\n",
    "\n",
    "for textedContact in textedContacts:\n",
    "    unreadMark = tex\n",
    "    print(unreadMark)\n",
    "    print()\n",
    "    if ():\n",
    "        contactName = driver.find_element_by_xpath(\"//div/div/div[2]/div[1]/div[1]\").text\n",
    "        lastmsgTime = driver.find_element_by_xpath(\"//div/div/div[2]/div[1]/div[2]\").text\n",
    "        numOfNewMsges = driver.find_element_by_xpath(\"//div/div/div[2]/div[2]/div[2]/span[1]/div[2]/span\").text\n",
    "        # print(f\"{contactName}\\n{lastmsgTime}\\n{numOfNewMsges}\\n\\n\")\n",
    "        \n",
    "    \n",
    "##unreadChats = driver.find_elements_by_class_name(\"_1pJ9J\")\n",
    "# for unreadChat in unreadChats:\n",
    "#     print(unreadChat.text)\n"
   ],
   "outputs": [],
   "metadata": {}
  },
  {
   "cell_type": "code",
   "execution_count": 112,
   "source": [
    "chatContainer = driver.find_element(By.CLASS_NAME , 'y8WcF')\n",
    "\n",
    "chatContainer.send_keys(Keys.CONTROL , Keys.END)\n",
    "## get all msg divs from parent to array. iterate from last to last-[no of unread msges]"
   ],
   "outputs": [],
   "metadata": {}
  },
  {
   "cell_type": "code",
   "execution_count": 76,
   "source": [
    "for i in range(100):\n",
    "    msgBox.send_keys(msg + Keys.ENTER)\n",
    "    time.sleep(1)"
   ],
   "outputs": [],
   "metadata": {}
  }
 ],
 "metadata": {
  "orig_nbformat": 4,
  "language_info": {
   "name": "python",
   "version": "3.8.10",
   "mimetype": "text/x-python",
   "codemirror_mode": {
    "name": "ipython",
    "version": 3
   },
   "pygments_lexer": "ipython3",
   "nbconvert_exporter": "python",
   "file_extension": ".py"
  },
  "kernelspec": {
   "name": "python3",
   "display_name": "Python 3.8.10 64-bit"
  },
  "interpreter": {
   "hash": "916dbcbb3f70747c44a77c7bcd40155683ae19c65e1c03b4aa3499c5328201f1"
  }
 },
 "nbformat": 4,
 "nbformat_minor": 2
}