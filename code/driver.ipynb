{
 "cells": [
  {
   "cell_type": "code",
   "execution_count": 38,
   "metadata": {},
   "outputs": [
    {
     "name": "stdout",
     "output_type": "stream",
     "text": [
      "Requirement already satisfied: selenium in /usr/local/lib/python3.8/dist-packages (3.141.0)\n",
      "Requirement already satisfied: urllib3 in /usr/lib/python3/dist-packages (from selenium) (1.25.8)\n",
      "Requirement already satisfied: webdriver_manager in /usr/local/lib/python3.8/dist-packages (3.4.2)\n",
      "Requirement already satisfied: configparser in /usr/local/lib/python3.8/dist-packages (from webdriver_manager) (5.0.2)\n",
      "Requirement already satisfied: requests in /usr/lib/python3/dist-packages (from webdriver_manager) (2.22.0)\n",
      "Requirement already satisfied: crayons in /usr/local/lib/python3.8/dist-packages (from webdriver_manager) (0.4.0)\n",
      "Requirement already satisfied: colorama in /usr/lib/python3/dist-packages (from crayons->webdriver_manager) (0.4.3)\n",
      "Requirement already satisfied: pandas in /home/paxf3e/.local/lib/python3.8/site-packages (1.2.4)\n",
      "Requirement already satisfied: python-dateutil>=2.7.3 in /usr/lib/python3/dist-packages (from pandas) (2.7.3)\n",
      "Collecting pytz>=2017.3\n",
      "  Downloading pytz-2021.3-py2.py3-none-any.whl (503 kB)\n",
      "\u001b[K     |████████████████████████████████| 503 kB 921 kB/s \n",
      "\u001b[?25hRequirement already satisfied: numpy>=1.16.5 in /home/paxf3e/.local/lib/python3.8/site-packages (from pandas) (1.20.3)\n",
      "Installing collected packages: pytz\n",
      "Successfully installed pytz-2021.3\n"
     ]
    }
   ],
   "source": [
    "!pip install selenium\n",
    "!pip install webdriver_manager\n",
    "!pip install pandas"
   ]
  },
  {
   "cell_type": "code",
   "execution_count": 78,
   "metadata": {},
   "outputs": [],
   "source": [
    "from selenium import webdriver\n",
    "from selenium.webdriver.support.ui import WebDriverWait\n",
    "from selenium.webdriver.support import expected_conditions as EC\n",
    "from selenium.webdriver.common.keys import Keys\n",
    "from selenium.webdriver.common.by import By\n",
    "import time"
   ]
  },
  {
   "cell_type": "code",
   "execution_count": 3,
   "metadata": {},
   "outputs": [],
   "source": [
    "driver = webdriver.Chrome('/usr/local/bin/chromedriver')\n",
    "driver.get(\"https://web.whatsapp.com/\")\n",
    "wait = WebDriverWait(driver , 600)"
   ]
  },
  {
   "cell_type": "code",
   "execution_count": 17,
   "metadata": {},
   "outputs": [],
   "source": [
    "receiver = \"+91 93117 37335\"    # receiver name\n",
    "msg = \"assignment\"      # keyword\n",
    "\n",
    "contactNames = driver.find_elements(By.CLASS_NAME , '_3q9s6')\n",
    "for contactName in contactNames:\n",
    "    if contactName.text == receiver:\n",
    "        print(contactName.text)\n",
    "        contactName.click()\n",
    "        break\n",
    "msgBox = contactName.find_element(By.XPATH , \"/html/body/div[1]/div[1]/div[1]/div[4]/div[1]/footer/div[1]/div/span[2]/div/div[2]/div[1]/div\")\n",
    "\n",
    "msg = \"test\" \n",
    "# for i in range(10):\n",
    "#     msgBox.send_keys(\"kabbo seedh kabbo pott saiyyaan maare satta sott\" , Keys.ENTER)\n",
    "#     time.sleep(2)"
   ]
  },
  {
   "cell_type": "code",
   "execution_count": 75,
   "metadata": {},
   "outputs": [
    {
     "name": "stdout",
     "output_type": "stream",
     "text": [
      "Convocation on 24nov.\n",
      "01:43\n",
      "1\n",
      "\n",
      "\n"
     ]
    }
   ],
   "source": [
    "textedContacts = driver.find_elements(By.CLASS_NAME , '_3m_Xw')\n",
    "# unreadMark = driver.find_elements(By.CLASS_NAME , '_1pJ9J')\n",
    "unreadChats = []\n",
    "for textedContact in textedContacts:\n",
    "    try:\n",
    "        isUnread = textedContact.find_element(By.CLASS_NAME , '_23LrM')\n",
    "        if isUnread is not None:\n",
    "            contactName = textedContact.find_element(By.CLASS_NAME , 'zoWT4').text\n",
    "            lastmsgTime = textedContact.find_element(By.CLASS_NAME , '_1i_wG').text\n",
    "            numOfNewMsges = textedContact.find_element(By.CLASS_NAME , '_23LrM').text\n",
    "            print(f\"{contactName}\\n{lastmsgTime}\\n{numOfNewMsges}\\n\\n\")\n",
    "            unreadChats.append(textedContact)\n",
    "    except:\n",
    "        pass"
   ]
  },
  {
   "cell_type": "code",
   "execution_count": 76,
   "metadata": {},
   "outputs": [],
   "source": [
    "import pandas as pd\n",
    "data = pd.DataFrame({'Contact' : [], \n",
    "                     'Time' : [],\n",
    "                     'Text' : []},)\n",
    "# print(type(data))\n",
    "\n",
    "for unreadChat in unreadChats:\n",
    "    contactName = [unreadChat.find_element(By.CLASS_NAME , 'zoWT4').text]\n",
    "    lastmsgTime = [unreadChat.find_element(By.CLASS_NAME , '_1i_wG').text]\n",
    "    numOfNewMsges = int(unreadChat.find_element(By.CLASS_NAME , '_23LrM').text)\n",
    "    unreadChat.click()\n",
    "    chatContainer = unreadChat.find_element(By.XPATH , '/html/body/div[1]/div[1]/div[1]/div[4]/div[1]/div[3]/div/div[2]/div[3]')\n",
    "    chatContainer.send_keys(Keys.CONTROL , Keys.END)\n",
    "    msges = chatContainer.find_elements(By.XPATH , '/html/body/div[1]/div[1]/div[1]/div[4]/div[1]/div[3]/div/div[2]/div[3]/*') #last div\n",
    "    # print(len(msges))\n",
    "    recvdmsg = []\n",
    "    for msgg in msges:\n",
    "        recvdmsg.append(msgg.text)\n",
    "    data.append(contactName, lastmsgTime, recvdmsg[(len(msges) - numOfNewMsges):])\n",
    "\n",
    "data.to_csv('out.csv')        \n",
    "## get all msg divs from parent to array. iterate from last to last-[no of unread msges]"
   ]
  },
  {
   "cell_type": "code",
   "execution_count": 77,
   "metadata": {},
   "outputs": [
    {
     "name": "stdout",
     "output_type": "stream",
     "text": [
      "[<selenium.webdriver.remote.webelement.WebElement (session=\"7541486dbf6a65f269ceaf8c69f4894c\", element=\"96454f45-f5ad-45d4-94c6-0edc5e431329\")>]\n",
      "['+91 72200 45349\\nAnuj\\nJatin Verma\\nno..\\nu my beta\\nJb baap ka juta bete k aane lg jaye tb beta dost bn jata h\\n01:43']\n",
      "<class 'list'>\n",
      "<class 'list'>\n"
     ]
    }
   ],
   "source": [
    "print(msges[(len(msges) - numOfNewMsges):])\n",
    "print(recvdmsg[(len(msges) - numOfNewMsges):])\n",
    "print(type(msges))\n",
    "print(type(recvdmsg))"
   ]
  }
 ],
 "metadata": {
  "interpreter": {
   "hash": "916dbcbb3f70747c44a77c7bcd40155683ae19c65e1c03b4aa3499c5328201f1"
  },
  "kernelspec": {
   "display_name": "Python 3.8.10 64-bit",
   "name": "python3"
  },
  "language_info": {
   "codemirror_mode": {
    "name": "ipython",
    "version": 3
   },
   "file_extension": ".py",
   "mimetype": "text/x-python",
   "name": "python",
   "nbconvert_exporter": "python",
   "pygments_lexer": "ipython3",
   "version": "3.8.10"
  }
 },
 "nbformat": 4,
 "nbformat_minor": 2
}
